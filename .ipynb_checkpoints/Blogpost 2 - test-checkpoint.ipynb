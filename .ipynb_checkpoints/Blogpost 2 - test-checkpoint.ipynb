{
 "cells": [
  {
   "cell_type": "raw",
   "id": "d5ccbbfc-8fea-4dec-ba8f-86e2eae3af81",
   "metadata": {},
   "source": [
    "---\n",
    "title: \"Quarto Basics\"\n",
    "format: \n",
    "  html:\n",
    "    code-fold: false\n",
    "jupyter: python3\n",
    "description: \"This is my first blog post using Quarto and Jupyter notebooks!\"\n",
    "author: \"Kristian Lauridsen \"\n",
    "date: \"2024-11-21\"\n",
    "categories: [test, first-post]\n",
    "---"
   ]
  },
  {
   "cell_type": "markdown",
   "id": "cfc7ee38-1375-44f5-ae21-728a66829c88",
   "metadata": {},
   "source": [
    "## Hello!\n",
    "\n",
    "This is another test"
   ]
  },
  {
   "cell_type": "code",
   "execution_count": null,
   "id": "0ee9c3c9-dcf0-4328-b7a7-a96054de6caf",
   "metadata": {},
   "outputs": [],
   "source": []
  }
 ],
 "metadata": {
  "kernelspec": {
   "display_name": "Python 3 (ipykernel)",
   "language": "python",
   "name": "python3"
  },
  "language_info": {
   "codemirror_mode": {
    "name": "ipython",
    "version": 3
   },
   "file_extension": ".py",
   "mimetype": "text/x-python",
   "name": "python",
   "nbconvert_exporter": "python",
   "pygments_lexer": "ipython3",
   "version": "3.12.6"
  }
 },
 "nbformat": 4,
 "nbformat_minor": 5
}
