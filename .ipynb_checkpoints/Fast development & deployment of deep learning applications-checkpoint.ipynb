{
 "cells": [
  {
   "cell_type": "raw",
   "id": "d5ccbbfc-8fea-4dec-ba8f-86e2eae3af81",
   "metadata": {},
   "source": [
    "---\n",
    "title: \"Quarto Basics\"\n",
    "format: \n",
    "  html:\n",
    "    code-fold: false\n",
    "jupyter: python3\n",
    "description: \"This is my first blog post using Quarto and Jupyter notebooks!\"\n",
    "author: \"Kristian Lauridsen \"\n",
    "date: \"2024-11-21\"\n",
    "categories: [test, first-post]\n",
    "---"
   ]
  },
  {
   "cell_type": "markdown",
   "id": "cfc7ee38-1375-44f5-ae21-728a66829c88",
   "metadata": {},
   "source": [
    "## Hello!\n",
    "\n",
    "This is another test"
   ]
  },
  {
   "cell_type": "markdown",
   "id": "d987116c-762c-4a27-a906-aea5fc49c112",
   "metadata": {},
   "source": [
    "This is no longer a test!\n",
    "\n",
    "After not having touched machine learning, or deep learning & AI in any developmental capacity for quite some time, personal and professional projects made it the opportune moment to go back and get alot of old dusty projects that never got published, actually published."
   ]
  },
  {
   "cell_type": "markdown",
   "id": "216fbd67-f28d-4dea-98f2-66e6016f8921",
   "metadata": {},
   "source": [
    "That is what this blogpost is for! here, i am going to take a beginners view to deep learning & AI, and present it in as accessible a format as possible - the goal is that you should be able to follow along the major concepts around why deep learning works, as well as the gist of the steps being taken to deploy. As this is all for demonstration, and speed of deployment and iteration speed are key, we will be using a variety of very convenient tools.\n",
    "\n",
    "With those tools, we will be able to achieve very much, with very little code, as you will see soon.\n",
    "\n",
    "First, a little theory around deep learning & transfer learning are in order, however."
   ]
  },
  {
   "cell_type": "markdown",
   "id": "d859c71f-28e1-4acc-8435-6d9d12da725c",
   "metadata": {},
   "source": [
    "## **Deep learning, neural nets & Transfer learning**\n",
    "\n",
    "Deep learning, or atleast \"AI\" i have to assume are fairly well known at this point, and ill therefor be brief with the overall function of a neural net architecture.\n",
    "\n",
    "A neural net, is a machine learning model that predicts things - just like any other machine learning model! \n",
    "\n",
    "A neural net I feel, is best understood in comparison, so let us take what is probably the most well known model, the regression model as an example.\n",
    "##Indsæt sammenligning på simpelt regressionsspørgsmål her\"\"\n",
    "Let's try to predict apple sales price from a variety of factors, (height, weight, harvesting time)\n",
    "In a regression model, apple sales price would be our dependent variable, and the apple attributes (height, weight, harvesting time) the indepdent variables - the ones we use to predict the dependent variable with.\n",
    "To find out how important (or unimportant) each independent variable is on our apple sales price however, we need to train our model.\n",
    "\n",
    "Training a model i find, is often one of the most confused parts of machine learning for any outsider or beginner - fraught with mythologizing assumptions and preconceptions around what it is, and how you do it.\n",
    "\n",
    "In purely practical terms however, training is really very simple - both for regression AND for neural nets. Training, is about tweaking the value of the independent variables, to better predict the dependent variable. That's it.\n",
    "\n",
    "For regression, the most common algorithm used is called ordinary least squares. And after running that, we would be able to see the value or weight, the singular independent variable has.\n",
    "\n",
    "For a neural net, the process would be largely the same. However, the one important distinction is the nature of the independent variables. For the regression model, we would specify each variable explicitly \"this is how much height contributes to salesprice\" With a neural net, we would instead make an arbitrary amount of \"blank\" or arbitrary weights, that dont correspond to anything specific at all at first.\n",
    "\n",
    "\n",
    "The neural net in particular however, has shown to be among the most capable types of models (For a great variety of reasons) in recent years, beating out"
   ]
  },
  {
   "cell_type": "code",
   "execution_count": null,
   "id": "2b4505f3-e201-4c82-8fd0-7270952d6a97",
   "metadata": {},
   "outputs": [],
   "source": [
    "#Oven over er... lidt for langtrukkent og teknisk? overvej at gå mere direkte til koden og holde tilbage med teksten og sådan. Flere blogspots er nok også federe end færrere"
   ]
  }
 ],
 "metadata": {
  "kernelspec": {
   "display_name": "Python 3 (ipykernel)",
   "language": "python",
   "name": "python3"
  },
  "language_info": {
   "codemirror_mode": {
    "name": "ipython",
    "version": 3
   },
   "file_extension": ".py",
   "mimetype": "text/x-python",
   "name": "python",
   "nbconvert_exporter": "python",
   "pygments_lexer": "ipython3",
   "version": "3.12.6"
  }
 },
 "nbformat": 4,
 "nbformat_minor": 5
}
